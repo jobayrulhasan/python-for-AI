{
 "cells": [
  {
   "cell_type": "markdown",
   "id": "d607cc20-bedb-422e-82f3-6e0c1f4fde6e",
   "metadata": {},
   "source": [
    "List methods\n",
    "\n"
   ]
  },
  {
   "cell_type": "code",
   "execution_count": 4,
   "id": "85d70a1f-be8e-409d-acfe-ce6b80c41443",
   "metadata": {},
   "outputs": [],
   "source": [
    "list1 = ['ai','ds','cs',150,20,True,(3,4),(1,2)]"
   ]
  },
  {
   "cell_type": "code",
   "execution_count": 5,
   "id": "c8aa7eed-4085-4544-a4fc-adf1034a80fc",
   "metadata": {},
   "outputs": [
    {
     "data": {
      "text/plain": [
       "['ai', 'ds', 'cs', 150, 20, True, (3, 4), (1, 2)]"
      ]
     },
     "execution_count": 5,
     "metadata": {},
     "output_type": "execute_result"
    }
   ],
   "source": [
    "list1"
   ]
  },
  {
   "cell_type": "code",
   "execution_count": 6,
   "id": "7025016c-1f42-4401-8988-e3434ca76e41",
   "metadata": {},
   "outputs": [
    {
     "data": {
      "text/plain": [
       "'ai'"
      ]
     },
     "execution_count": 6,
     "metadata": {},
     "output_type": "execute_result"
    }
   ],
   "source": [
    "list1[0]"
   ]
  },
  {
   "cell_type": "code",
   "execution_count": 7,
   "id": "b9e2e9d2-7e69-4fa1-8455-f313d3505c20",
   "metadata": {},
   "outputs": [
    {
     "data": {
      "text/plain": [
       "(1, 2)"
      ]
     },
     "execution_count": 7,
     "metadata": {},
     "output_type": "execute_result"
    }
   ],
   "source": [
    "list1[-1]"
   ]
  },
  {
   "cell_type": "code",
   "execution_count": 12,
   "id": "c0bca6d4-1dd4-4d28-b14f-7812ec4c8829",
   "metadata": {},
   "outputs": [
    {
     "data": {
      "text/plain": [
       "1"
      ]
     },
     "execution_count": 12,
     "metadata": {},
     "output_type": "execute_result"
    }
   ],
   "source": [
    "list1[-1] [-2]"
   ]
  },
  {
   "cell_type": "markdown",
   "id": "6495c5d7-3436-43aa-be8b-9cdc7a94de17",
   "metadata": {},
   "source": [
    "#Copy()"
   ]
  },
  {
   "cell_type": "code",
   "execution_count": 13,
   "id": "c7b1ddad-c27a-441f-85bf-7818b3169121",
   "metadata": {},
   "outputs": [],
   "source": [
    "list2 = list1.copy()"
   ]
  },
  {
   "cell_type": "code",
   "execution_count": 14,
   "id": "2a8c5e84-61c7-4e4a-a6df-df77b7092aa7",
   "metadata": {},
   "outputs": [
    {
     "data": {
      "text/plain": [
       "['ai', 'ds', 'cs', 150, 20, True, (3, 4), (1, 2)]"
      ]
     },
     "execution_count": 14,
     "metadata": {},
     "output_type": "execute_result"
    }
   ],
   "source": [
    "list2"
   ]
  },
  {
   "cell_type": "markdown",
   "id": "44da321c-f8c4-40c4-b74c-56173810959a",
   "metadata": {},
   "source": [
    "#Append()"
   ]
  },
  {
   "cell_type": "code",
   "execution_count": 15,
   "id": "a46a5a86-3145-4280-91e7-554f7007fe73",
   "metadata": {},
   "outputs": [],
   "source": [
    "list1.append(100)"
   ]
  },
  {
   "cell_type": "code",
   "execution_count": 16,
   "id": "8120e2bc-5f59-4133-9774-3f49ff0e3840",
   "metadata": {},
   "outputs": [
    {
     "data": {
      "text/plain": [
       "['ai', 'ds', 'cs', 150, 20, True, (3, 4), (1, 2), 100]"
      ]
     },
     "execution_count": 16,
     "metadata": {},
     "output_type": "execute_result"
    }
   ],
   "source": [
    "list1"
   ]
  },
  {
   "cell_type": "code",
   "execution_count": 17,
   "id": "2d6f354b-1618-4953-8b45-e13e6354497a",
   "metadata": {},
   "outputs": [],
   "source": [
    "list4 = [102, 103, 106, 108]"
   ]
  },
  {
   "cell_type": "code",
   "execution_count": 18,
   "id": "276281bb-a40d-44ee-8ebe-faba1cab799c",
   "metadata": {},
   "outputs": [],
   "source": [
    "list1.append(list4)"
   ]
  },
  {
   "cell_type": "code",
   "execution_count": 19,
   "id": "b4e96920-d5b2-4486-a4d2-c04595af9cec",
   "metadata": {},
   "outputs": [
    {
     "data": {
      "text/plain": [
       "['ai', 'ds', 'cs', 150, 20, True, (3, 4), (1, 2), 100, [102, 103, 106, 108]]"
      ]
     },
     "execution_count": 19,
     "metadata": {},
     "output_type": "execute_result"
    }
   ],
   "source": [
    "list1"
   ]
  },
  {
   "cell_type": "code",
   "execution_count": 20,
   "id": "447c9278-2ac4-4a79-8d6e-ede0734e0262",
   "metadata": {},
   "outputs": [],
   "source": [
    "list1.extend(list4)"
   ]
  },
  {
   "cell_type": "code",
   "execution_count": 21,
   "id": "6465b291-fc38-4323-8cef-aaac1b126f4d",
   "metadata": {},
   "outputs": [
    {
     "data": {
      "text/plain": [
       "['ai',\n",
       " 'ds',\n",
       " 'cs',\n",
       " 150,\n",
       " 20,\n",
       " True,\n",
       " (3, 4),\n",
       " (1, 2),\n",
       " 100,\n",
       " [102, 103, 106, 108],\n",
       " 102,\n",
       " 103,\n",
       " 106,\n",
       " 108]"
      ]
     },
     "execution_count": 21,
     "metadata": {},
     "output_type": "execute_result"
    }
   ],
   "source": [
    "list1"
   ]
  },
  {
   "cell_type": "code",
   "execution_count": 22,
   "id": "8568b60c-09c3-492d-8fe9-37cc14e128d6",
   "metadata": {},
   "outputs": [
    {
     "data": {
      "text/plain": [
       "108"
      ]
     },
     "execution_count": 22,
     "metadata": {},
     "output_type": "execute_result"
    }
   ],
   "source": [
    "list1[-1]"
   ]
  },
  {
   "cell_type": "markdown",
   "id": "9981fdf1-8694-4505-a441-f2f87dbecb00",
   "metadata": {},
   "source": [
    "#insert"
   ]
  },
  {
   "cell_type": "code",
   "execution_count": 23,
   "id": "e85d5a66-89d9-49f6-b6e0-313610442e52",
   "metadata": {},
   "outputs": [],
   "source": [
    "list1.insert(0, 'Jobayer')"
   ]
  },
  {
   "cell_type": "code",
   "execution_count": 24,
   "id": "3961d3ab-abdf-468e-8bef-8b7fa88200b3",
   "metadata": {},
   "outputs": [
    {
     "data": {
      "text/plain": [
       "['Jobayer',\n",
       " 'ai',\n",
       " 'ds',\n",
       " 'cs',\n",
       " 150,\n",
       " 20,\n",
       " True,\n",
       " (3, 4),\n",
       " (1, 2),\n",
       " 100,\n",
       " [102, 103, 106, 108],\n",
       " 102,\n",
       " 103,\n",
       " 106,\n",
       " 108]"
      ]
     },
     "execution_count": 24,
     "metadata": {},
     "output_type": "execute_result"
    }
   ],
   "source": [
    "list1"
   ]
  },
  {
   "cell_type": "markdown",
   "id": "01b25d8d-876c-4521-bbfa-eb47780cbbd7",
   "metadata": {},
   "source": [
    "#index"
   ]
  },
  {
   "cell_type": "code",
   "execution_count": 26,
   "id": "9c00265b-bff8-46f6-a20a-0006674eb7ed",
   "metadata": {},
   "outputs": [
    {
     "data": {
      "text/plain": [
       "4"
      ]
     },
     "execution_count": 26,
     "metadata": {},
     "output_type": "execute_result"
    }
   ],
   "source": [
    "list1.index(150)"
   ]
  },
  {
   "cell_type": "code",
   "execution_count": 28,
   "id": "1d92ccd7-84a8-431a-a68d-2489c9394a93",
   "metadata": {},
   "outputs": [
    {
     "data": {
      "text/plain": [
       "1"
      ]
     },
     "execution_count": 28,
     "metadata": {},
     "output_type": "execute_result"
    }
   ],
   "source": [
    "list1.count(103)"
   ]
  },
  {
   "cell_type": "code",
   "execution_count": 32,
   "id": "09657eee-4210-4427-9952-47c96106a2a3",
   "metadata": {},
   "outputs": [],
   "source": [
    "#sort rearrage the value in assending order"
   ]
  },
  {
   "cell_type": "code",
   "execution_count": 33,
   "id": "a222f8a3-b796-4347-b661-1c9d84e66e66",
   "metadata": {},
   "outputs": [],
   "source": [
    "list5 = [1, 5, 7, 89, 107, 33, 66, 75, 4, 6, 9]"
   ]
  },
  {
   "cell_type": "code",
   "execution_count": 34,
   "id": "33e3089c-2e25-4351-99e1-8b48c09e2693",
   "metadata": {},
   "outputs": [],
   "source": [
    "list5.sort()"
   ]
  },
  {
   "cell_type": "code",
   "execution_count": 35,
   "id": "9c32f65d-342d-488c-8c5b-3896924eaa1f",
   "metadata": {},
   "outputs": [
    {
     "data": {
      "text/plain": [
       "[1, 4, 5, 6, 7, 9, 33, 66, 75, 89, 107]"
      ]
     },
     "execution_count": 35,
     "metadata": {},
     "output_type": "execute_result"
    }
   ],
   "source": [
    "list5"
   ]
  },
  {
   "cell_type": "code",
   "execution_count": 42,
   "id": "09691c8d-203c-4b93-9a4b-3dad9f57e5c0",
   "metadata": {},
   "outputs": [],
   "source": [
    "#reverse(), function rearrange the value in desinding order"
   ]
  },
  {
   "cell_type": "code",
   "execution_count": 45,
   "id": "11cd794e-8a70-4149-a84b-9171516a6788",
   "metadata": {},
   "outputs": [],
   "source": [
    "list5.reverse()"
   ]
  },
  {
   "cell_type": "code",
   "execution_count": 46,
   "id": "7b06b306-ddb1-4cfe-a9ce-7f4dfca0908b",
   "metadata": {},
   "outputs": [
    {
     "data": {
      "text/plain": [
       "[107, 89, 75, 66, 33, 9, 7, 6, 5, 4, 1]"
      ]
     },
     "execution_count": 46,
     "metadata": {},
     "output_type": "execute_result"
    }
   ],
   "source": [
    "list5"
   ]
  },
  {
   "cell_type": "code",
   "execution_count": 50,
   "id": "0e8ad268-7189-473e-892a-59d25a30df37",
   "metadata": {},
   "outputs": [],
   "source": [
    "#remove function, should mention the specific value from the list"
   ]
  },
  {
   "cell_type": "code",
   "execution_count": 54,
   "id": "960949fa-d00d-4224-8986-93570b749369",
   "metadata": {},
   "outputs": [],
   "source": [
    "list5.remove(1)"
   ]
  },
  {
   "cell_type": "code",
   "execution_count": 55,
   "id": "fe4ffddf-f16e-4e8a-a53b-eb757d13e951",
   "metadata": {},
   "outputs": [
    {
     "data": {
      "text/plain": [
       "[89, 75, 66, 33, 9, 7, 6, 5, 4]"
      ]
     },
     "execution_count": 55,
     "metadata": {},
     "output_type": "execute_result"
    }
   ],
   "source": [
    "list5"
   ]
  },
  {
   "cell_type": "code",
   "execution_count": 56,
   "id": "10b52b7f-b27a-455e-9d02-01a3c16700b9",
   "metadata": {},
   "outputs": [],
   "source": [
    "#pop function remove a value from the list using index number"
   ]
  },
  {
   "cell_type": "code",
   "execution_count": 57,
   "id": "9b0d0721-d99b-4d8b-b588-9a07e20462b1",
   "metadata": {},
   "outputs": [
    {
     "data": {
      "text/plain": [
       "33"
      ]
     },
     "execution_count": 57,
     "metadata": {},
     "output_type": "execute_result"
    }
   ],
   "source": [
    "list5.pop(3)"
   ]
  },
  {
   "cell_type": "code",
   "execution_count": 58,
   "id": "646c777d-a2b7-448d-bc0e-a4bb214cdd4b",
   "metadata": {},
   "outputs": [
    {
     "data": {
      "text/plain": [
       "[89, 75, 66, 9, 7, 6, 5, 4]"
      ]
     },
     "execution_count": 58,
     "metadata": {},
     "output_type": "execute_result"
    }
   ],
   "source": [
    "list5"
   ]
  },
  {
   "cell_type": "code",
   "execution_count": 60,
   "id": "6517dd4c-3d58-4653-bb9b-cf6553f97996",
   "metadata": {},
   "outputs": [],
   "source": [
    "#list comprehension"
   ]
  },
  {
   "cell_type": "code",
   "execution_count": 65,
   "id": "5e4d842d-c3e5-42f0-a2b5-3bd062a3a433",
   "metadata": {},
   "outputs": [
    {
     "name": "stdout",
     "output_type": "stream",
     "text": [
      "[0, 1, 2, 3, 4, 5, 6, 7, 8, 9]\n"
     ]
    }
   ],
   "source": [
    "xyz = [x for x in range(10)] #list comprehension show data in a list but \n",
    "\n",
    "print(xyz)"
   ]
  },
  {
   "cell_type": "code",
   "execution_count": 66,
   "id": "f39d109a-892a-41ad-a73c-f28878090755",
   "metadata": {},
   "outputs": [
    {
     "name": "stdout",
     "output_type": "stream",
     "text": [
      "0\n",
      "1\n",
      "2\n",
      "3\n",
      "4\n",
      "5\n",
      "6\n",
      "7\n",
      "8\n",
      "9\n"
     ]
    }
   ],
   "source": [
    "for x in range(10):\n",
    "    print(x)"
   ]
  },
  {
   "cell_type": "code",
   "execution_count": 68,
   "id": "d765b20b-675f-439c-b32e-75e1464ffd37",
   "metadata": {},
   "outputs": [
    {
     "name": "stdout",
     "output_type": "stream",
     "text": [
      "[2, 4, 6, 8]\n"
     ]
    }
   ],
   "source": [
    "xyz = [x for x in range(2, 10) if x % 2 == 0] #comprehension with condition\n",
    "print(xyz)"
   ]
  },
  {
   "cell_type": "code",
   "execution_count": 71,
   "id": "e202fa48-d994-43ad-973a-be8b116f8aa8",
   "metadata": {},
   "outputs": [
    {
     "name": "stdout",
     "output_type": "stream",
     "text": [
      "[[0, 1, 2, 3, 4], [0, 1, 2, 3, 4], [0, 1, 2, 3, 4], [0, 1, 2, 3, 4]]\n"
     ]
    }
   ],
   "source": [
    "#creating a matrix using list comprehension\n",
    "\n",
    "matrix = [[j for j in range(5)] for i in range(4)]\n",
    "\n",
    "print(matrix)"
   ]
  },
  {
   "cell_type": "code",
   "execution_count": 73,
   "id": "01742bde-16d2-4e83-8bf3-0db6ab416408",
   "metadata": {},
   "outputs": [
    {
     "name": "stdout",
     "output_type": "stream",
     "text": [
      "[6, 2, 12, 10, 5]\n"
     ]
    }
   ],
   "source": [
    "words = ['python','AI','Data science','Bangladesh','Dheli']\n",
    "\n",
    "lengths = [len(word) for word in words]\n",
    "\n",
    "print(lengths)"
   ]
  },
  {
   "cell_type": "code",
   "execution_count": null,
   "id": "178556dd-5db1-4f1e-b334-6e14b956e5a2",
   "metadata": {},
   "outputs": [],
   "source": []
  }
 ],
 "metadata": {
  "kernelspec": {
   "display_name": "Python 3 (ipykernel)",
   "language": "python",
   "name": "python3"
  },
  "language_info": {
   "codemirror_mode": {
    "name": "ipython",
    "version": 3
   },
   "file_extension": ".py",
   "mimetype": "text/x-python",
   "name": "python",
   "nbconvert_exporter": "python",
   "pygments_lexer": "ipython3",
   "version": "3.12.7"
  }
 },
 "nbformat": 4,
 "nbformat_minor": 5
}
