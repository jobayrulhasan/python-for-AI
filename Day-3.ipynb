{
 "cells": [
  {
   "cell_type": "code",
   "execution_count": 1,
   "id": "df9e18cf-2b1c-4ef7-9336-68211d636e1d",
   "metadata": {},
   "outputs": [
    {
     "name": "stdin",
     "output_type": "stream",
     "text": [
      "Please input your first number:  40.3\n"
     ]
    }
   ],
   "source": [
    "x = float(input('Please input your first number: '))"
   ]
  },
  {
   "cell_type": "code",
   "execution_count": 2,
   "id": "d5ab19d4-cac6-4832-b891-59621af65596",
   "metadata": {},
   "outputs": [
    {
     "name": "stdin",
     "output_type": "stream",
     "text": [
      "Please input your second number:  50.6\n"
     ]
    }
   ],
   "source": [
    "y = float(input('Please input your second number: '))"
   ]
  },
  {
   "cell_type": "code",
   "execution_count": 10,
   "id": "d321fc52-992e-4b21-b7c4-8e2c50e484d1",
   "metadata": {},
   "outputs": [],
   "source": [
    "result = x+y"
   ]
  },
  {
   "cell_type": "code",
   "execution_count": 11,
   "id": "96100ef0-0a26-41e4-a1af-cda4909c265f",
   "metadata": {},
   "outputs": [
    {
     "name": "stdout",
     "output_type": "stream",
     "text": [
      "90.9\n"
     ]
    }
   ],
   "source": [
    "print(result)"
   ]
  },
  {
   "cell_type": "code",
   "execution_count": 13,
   "id": "c3f397ec-328a-47a4-8ef4-11e8bf2cf768",
   "metadata": {},
   "outputs": [
    {
     "data": {
      "text/plain": [
       "24"
      ]
     },
     "execution_count": 13,
     "metadata": {},
     "output_type": "execute_result"
    }
   ],
   "source": [
    "import sys\n",
    "sys.getsizeof(result)"
   ]
  },
  {
   "cell_type": "code",
   "execution_count": 14,
   "id": "3b73fa74-3287-430e-9fc8-9ca533ae76be",
   "metadata": {},
   "outputs": [],
   "source": [
    "data = 'Dhaka is the capital city of Bangladesh!'"
   ]
  },
  {
   "cell_type": "code",
   "execution_count": 15,
   "id": "9cbe119f-c6d0-46cf-8a12-7fd71ae34f43",
   "metadata": {},
   "outputs": [
    {
     "data": {
      "text/plain": [
       "81"
      ]
     },
     "execution_count": 15,
     "metadata": {},
     "output_type": "execute_result"
    }
   ],
   "source": [
    "import sys\n",
    "sys.getsizeof(data)"
   ]
  },
  {
   "cell_type": "code",
   "execution_count": 16,
   "id": "7df0d362-8980-4b78-a30b-76a8df7f3d5b",
   "metadata": {},
   "outputs": [
    {
     "data": {
      "text/plain": [
       "'dhaka is the capital city of bangladesh!'"
      ]
     },
     "execution_count": 16,
     "metadata": {},
     "output_type": "execute_result"
    }
   ],
   "source": [
    "data.lower()"
   ]
  },
  {
   "cell_type": "code",
   "execution_count": 17,
   "id": "c088e6b9-8b55-4386-be96-c7c3d1f31e06",
   "metadata": {},
   "outputs": [
    {
     "data": {
      "text/plain": [
       "'DHAKA IS THE CAPITAL CITY OF BANGLADESH!'"
      ]
     },
     "execution_count": 17,
     "metadata": {},
     "output_type": "execute_result"
    }
   ],
   "source": [
    "data.upper()"
   ]
  },
  {
   "cell_type": "code",
   "execution_count": 18,
   "id": "210f18ac-88f3-4bf7-bafc-b3235074df5a",
   "metadata": {},
   "outputs": [
    {
     "data": {
      "text/plain": [
       "['Dhaka', 'is', 'the', 'capital', 'city', 'of', 'Bangladesh!']"
      ]
     },
     "execution_count": 18,
     "metadata": {},
     "output_type": "execute_result"
    }
   ],
   "source": [
    "data.split()"
   ]
  },
  {
   "cell_type": "code",
   "execution_count": 20,
   "id": "8abb9b56-4529-48ac-9684-d0df1064ec49",
   "metadata": {},
   "outputs": [
    {
     "data": {
      "text/plain": [
       "'capital'"
      ]
     },
     "execution_count": 20,
     "metadata": {},
     "output_type": "execute_result"
    }
   ],
   "source": [
    "data.split()[3]"
   ]
  },
  {
   "cell_type": "code",
   "execution_count": 21,
   "id": "60900450-c75a-4970-aee6-f9427b150db4",
   "metadata": {},
   "outputs": [
    {
     "data": {
      "text/plain": [
       "'                              Dhaka is the capital city of Bangladesh!                              '"
      ]
     },
     "execution_count": 21,
     "metadata": {},
     "output_type": "execute_result"
    }
   ],
   "source": [
    "data.center(100)"
   ]
  },
  {
   "cell_type": "code",
   "execution_count": 22,
   "id": "51888769-dbae-4758-9418-aec0ffbc4d75",
   "metadata": {},
   "outputs": [],
   "source": [
    "#numaric data \n",
    "x = 10 # int\n",
    "y = 10.5 #float\n",
    "z = 10 + 5j #complex"
   ]
  },
  {
   "cell_type": "code",
   "execution_count": 23,
   "id": "6285c671-9661-495c-ace5-ee33b7be52d0",
   "metadata": {},
   "outputs": [
    {
     "name": "stdout",
     "output_type": "stream",
     "text": [
      "10\n"
     ]
    }
   ],
   "source": [
    "print(x)"
   ]
  },
  {
   "cell_type": "code",
   "execution_count": 24,
   "id": "f185e057-8098-4612-bc64-efd369ff3cdc",
   "metadata": {},
   "outputs": [
    {
     "data": {
      "text/plain": [
       "int"
      ]
     },
     "execution_count": 24,
     "metadata": {},
     "output_type": "execute_result"
    }
   ],
   "source": [
    "type(x)"
   ]
  },
  {
   "cell_type": "code",
   "execution_count": 25,
   "id": "c69fb8b8-7ce4-4e70-9110-67f4eda5ea34",
   "metadata": {},
   "outputs": [
    {
     "data": {
      "text/plain": [
       "float"
      ]
     },
     "execution_count": 25,
     "metadata": {},
     "output_type": "execute_result"
    }
   ],
   "source": [
    "type(y)"
   ]
  },
  {
   "cell_type": "code",
   "execution_count": 26,
   "id": "922fe6a3-3bfc-4c1f-84dc-6c14b3e84c64",
   "metadata": {},
   "outputs": [
    {
     "data": {
      "text/plain": [
       "complex"
      ]
     },
     "execution_count": 26,
     "metadata": {},
     "output_type": "execute_result"
    }
   ],
   "source": [
    "type(z)"
   ]
  },
  {
   "cell_type": "code",
   "execution_count": 27,
   "id": "afe01ea5-994e-482e-90ba-0a67a55807d6",
   "metadata": {},
   "outputs": [
    {
     "data": {
      "text/plain": [
       "10.0"
      ]
     },
     "execution_count": 27,
     "metadata": {},
     "output_type": "execute_result"
    }
   ],
   "source": [
    "float(x)"
   ]
  },
  {
   "cell_type": "code",
   "execution_count": 31,
   "id": "cf4caa08-aee9-4c37-b23e-e934f44b1cd7",
   "metadata": {},
   "outputs": [],
   "source": [
    "result = complex(x)"
   ]
  },
  {
   "cell_type": "code",
   "execution_count": 32,
   "id": "eba5b5fc-ade8-49a4-b0fa-0fd166a52748",
   "metadata": {},
   "outputs": [
    {
     "data": {
      "text/plain": [
       "complex"
      ]
     },
     "execution_count": 32,
     "metadata": {},
     "output_type": "execute_result"
    }
   ],
   "source": [
    "type(result)"
   ]
  },
  {
   "cell_type": "code",
   "execution_count": 40,
   "id": "b3715925-16a9-4be7-af98-7938d289ed60",
   "metadata": {},
   "outputs": [],
   "source": [
    "#range\n",
    "\n",
    "A = range(10)  #case 1"
   ]
  },
  {
   "cell_type": "code",
   "execution_count": 41,
   "id": "417fdfef-6c6b-4d10-9716-045da0c4af40",
   "metadata": {},
   "outputs": [
    {
     "data": {
      "text/plain": [
       "range(0, 10)"
      ]
     },
     "execution_count": 41,
     "metadata": {},
     "output_type": "execute_result"
    }
   ],
   "source": [
    "A"
   ]
  },
  {
   "cell_type": "code",
   "execution_count": 42,
   "id": "9f34bef3-1826-4a59-b849-589a64b2fb44",
   "metadata": {},
   "outputs": [
    {
     "name": "stdout",
     "output_type": "stream",
     "text": [
      "0\n",
      "1\n",
      "2\n",
      "3\n",
      "4\n",
      "5\n",
      "6\n",
      "7\n",
      "8\n",
      "9\n"
     ]
    }
   ],
   "source": [
    "for i in A:\n",
    "    print(i)"
   ]
  },
  {
   "cell_type": "code",
   "execution_count": 44,
   "id": "b3079633-54d0-422e-b8e7-0582418c2419",
   "metadata": {},
   "outputs": [
    {
     "name": "stdout",
     "output_type": "stream",
     "text": [
      "5\n",
      "6\n",
      "7\n",
      "8\n",
      "9\n",
      "10\n",
      "11\n",
      "12\n",
      "13\n",
      "14\n",
      "15\n",
      "16\n",
      "17\n",
      "18\n",
      "19\n",
      "20\n",
      "21\n",
      "22\n",
      "23\n",
      "24\n",
      "25\n",
      "26\n",
      "27\n",
      "28\n",
      "29\n"
     ]
    }
   ],
   "source": [
    "#range\n",
    "\n",
    "A = range(5, 30)  #case 2\n",
    "\n",
    "\n",
    "for i in A:\n",
    "    print(i)"
   ]
  },
  {
   "cell_type": "code",
   "execution_count": null,
   "id": "03786b9a-f154-4ac6-81ed-b47a4a6de11d",
   "metadata": {},
   "outputs": [],
   "source": [
    "x = 100\n",
    "y = 120\n",
    "\n",
    "if x > y:\n",
    "    print('x is grater then y')\n",
    "else:('out!')"
   ]
  },
  {
   "cell_type": "code",
   "execution_count": 1,
   "id": "53c4e3c5-3463-4465-addb-4bc38ae44252",
   "metadata": {},
   "outputs": [],
   "source": [
    "x1 = 100\n",
    "y1= 120\n",
    "\n",
    "if x1>y1:\n",
    "    print('x is grater then y')\n",
    "else:\n",
    "    ('out!')"
   ]
  },
  {
   "cell_type": "code",
   "execution_count": 4,
   "id": "ef3eef46-7afb-4771-93a0-36287844bba9",
   "metadata": {},
   "outputs": [
    {
     "name": "stdin",
     "output_type": "stream",
     "text": [
      "Input a number :  9\n"
     ]
    },
    {
     "name": "stdout",
     "output_type": "stream",
     "text": [
      "No 2\n"
     ]
    }
   ],
   "source": [
    "num = float(input('Input a number : '))\n",
    "\n",
    "if num % 2 == 0: \n",
    "    if num % 5 == 0:\n",
    "        print('Number is devisible by 5 and 2')\n",
    "    else:\n",
    "        print('Num1')\n",
    "else:\n",
    "    print('No 2')"
   ]
  },
  {
   "cell_type": "code",
   "execution_count": 11,
   "id": "282f33e5-fd15-432a-a922-d82fb55e5d25",
   "metadata": {},
   "outputs": [
    {
     "name": "stdin",
     "output_type": "stream",
     "text": [
      "Please enter your amount:  350\n"
     ]
    },
    {
     "name": "stdout",
     "output_type": "stream",
     "text": [
      "Your bill is 2000.0\n"
     ]
    }
   ],
   "source": [
    "amount = 0\n",
    "\n",
    "net_units = float(input('Please enter your amount: '))\n",
    "\n",
    "if net_units <= 100:\n",
    "    amount = 0\n",
    "elif net_units > 100 and net_units <= 200:\n",
    "    amount = (net_units - 100) * 5\n",
    "elif net_units > 200:\n",
    "     amount = ((net_units - 200) * 10) + 500\n",
    "print('Your bill is', amount)\n",
    "\n",
    "    \n"
   ]
  },
  {
   "cell_type": "code",
   "execution_count": 17,
   "id": "4e10bc4e-71fb-4069-82ce-358b36892ac8",
   "metadata": {},
   "outputs": [
    {
     "name": "stdin",
     "output_type": "stream",
     "text": [
      "Please enter number 1:  12\n",
      "Please enter number 2:  78\n",
      "Please enter number 3:  56\n"
     ]
    },
    {
     "name": "stdout",
     "output_type": "stream",
     "text": [
      "gratest number is : 78\n"
     ]
    }
   ],
   "source": [
    "#assignment 1\n",
    "\n",
    "num1 = int(input('Please enter number 1: '))\n",
    "num2 = int(input('Please enter number 2: '))\n",
    "num3 = int(input('Please enter number 3: '))\n",
    "\n",
    "if num1 >= num2 and num1 >= num3:\n",
    "    print('gratest number is :' , num1)\n",
    "elif num2 >= num1 and num2 >= num3:\n",
    "   print('gratest number is :' , num2)\n",
    "elif num3 >= num1 and num3 >= num2:\n",
    "    print('gratest number is :' , num3)\n",
    "else:\n",
    "    print('All number is equal!')"
   ]
  },
  {
   "cell_type": "code",
   "execution_count": 23,
   "id": "692fcd43-4717-4472-a472-f2c7ec55a3ac",
   "metadata": {},
   "outputs": [
    {
     "name": "stdin",
     "output_type": "stream",
     "text": [
      "Please enter the possible number:  85\n"
     ]
    },
    {
     "name": "stdout",
     "output_type": "stream",
     "text": [
      "This student is allow to sit exam and his/her attendence is  85 %\n"
     ]
    }
   ],
   "source": [
    "attendence = int(input('Please enter the possible number: '))\n",
    "\n",
    "\n",
    "if attendence >= 75 and attendence <= 100: \n",
    "    print('This student is allow to sit exam','and his/her attendence is ',attendence,'%')\n",
    "else:\n",
    "    print('He/she is not allow to sit exam')\n",
    "    "
   ]
  },
  {
   "cell_type": "code",
   "execution_count": 41,
   "id": "5bea9b0b-5784-49d5-8b95-7a0598a9ab3a",
   "metadata": {},
   "outputs": [
    {
     "name": "stdin",
     "output_type": "stream",
     "text": [
      "Please enter a number :  45\n"
     ]
    },
    {
     "name": "stdout",
     "output_type": "stream",
     "text": [
      "Grade is D and obtain number is  45\n"
     ]
    }
   ],
   "source": [
    "number = int(input('Please enter a number : '))\n",
    "\n",
    "if number >= 0 and number <= 24:\n",
    "    print('Grade is F and obtain number is ', number)\n",
    "elif number >= 25 and number <= 44:\n",
    "    print('Grade is E and obtain number is ', number)\n",
    "elif number >= 45 and number <= 49:\n",
    "    print('Grade is D and obtain number is ', number)\n",
    "elif number >= 50 and number <= 59:\n",
    "    print('Grade is C and obtain number is ', number)\n",
    "elif number >= 60 and number <= 79:\n",
    "    print('Grade is B and obtain number is ', number)\n",
    "elif number >= 80 and number <= 89:\n",
    "    print('Grade is A and obtain number is ', number)\n",
    "elif number >= 90 and number <= 100:\n",
    "    print('Grade is A+ and obtain number is ', number)\n",
    "else:\n",
    "    print(number, 'Is invalid and not support any grade. Please enter valid grade')"
   ]
  }
 ],
 "metadata": {
  "kernelspec": {
   "display_name": "Python 3 (ipykernel)",
   "language": "python",
   "name": "python3"
  },
  "language_info": {
   "codemirror_mode": {
    "name": "ipython",
    "version": 3
   },
   "file_extension": ".py",
   "mimetype": "text/x-python",
   "name": "python",
   "nbconvert_exporter": "python",
   "pygments_lexer": "ipython3",
   "version": "3.12.7"
  }
 },
 "nbformat": 4,
 "nbformat_minor": 5
}
