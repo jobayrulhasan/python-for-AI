{
 "cells": [
  {
   "cell_type": "code",
   "execution_count": 1,
   "id": "cad3166b-c993-4af0-959a-a424d0fe45e5",
   "metadata": {},
   "outputs": [
    {
     "data": {
      "text/plain": [
       "tuple"
      ]
     },
     "execution_count": 1,
     "metadata": {},
     "output_type": "execute_result"
    }
   ],
   "source": [
    "#tuple in python\n",
    "\n",
    "\n",
    "tup1 = ()\n",
    "\n",
    "type(tup1)"
   ]
  },
  {
   "cell_type": "code",
   "execution_count": 2,
   "id": "d5ec034b-cd22-423a-80f6-0cb5880b0cdb",
   "metadata": {},
   "outputs": [],
   "source": [
    "#set in python\n",
    "\n",
    "st1 = {1,3,6,8,9,7,10}"
   ]
  },
  {
   "cell_type": "code",
   "execution_count": 3,
   "id": "4454b02f-94c0-4b81-b543-575edeb6a7aa",
   "metadata": {},
   "outputs": [
    {
     "data": {
      "text/plain": [
       "{1, 3, 6, 7, 8, 9, 10}"
      ]
     },
     "execution_count": 3,
     "metadata": {},
     "output_type": "execute_result"
    }
   ],
   "source": [
    "st1"
   ]
  },
  {
   "cell_type": "code",
   "execution_count": 4,
   "id": "f955b684-71e7-48e0-8e96-f6d1991a6908",
   "metadata": {},
   "outputs": [
    {
     "data": {
      "text/plain": [
       "set"
      ]
     },
     "execution_count": 4,
     "metadata": {},
     "output_type": "execute_result"
    }
   ],
   "source": [
    "type(st1)"
   ]
  },
  {
   "cell_type": "code",
   "execution_count": 5,
   "id": "1be08203-fb97-42d7-bd16-0ecdbf25cd9f",
   "metadata": {},
   "outputs": [],
   "source": [
    "st2 = {}"
   ]
  },
  {
   "cell_type": "code",
   "execution_count": 6,
   "id": "c0bdd60a-76d8-4a3f-91e5-bf110f65dae3",
   "metadata": {},
   "outputs": [
    {
     "data": {
      "text/plain": [
       "{}"
      ]
     },
     "execution_count": 6,
     "metadata": {},
     "output_type": "execute_result"
    }
   ],
   "source": [
    "st2"
   ]
  },
  {
   "cell_type": "code",
   "execution_count": 7,
   "id": "c632a460-d165-4522-97d0-7a4e730218e7",
   "metadata": {},
   "outputs": [
    {
     "data": {
      "text/plain": [
       "dict"
      ]
     },
     "execution_count": 7,
     "metadata": {},
     "output_type": "execute_result"
    }
   ],
   "source": [
    "type(st2)"
   ]
  },
  {
   "cell_type": "code",
   "execution_count": 8,
   "id": "b7cb3784-9ed8-4d69-84f7-8ab78b13ece3",
   "metadata": {},
   "outputs": [],
   "source": [
    "st3 = set() #set should be define with the set function"
   ]
  },
  {
   "cell_type": "code",
   "execution_count": 9,
   "id": "bc2580c6-40b6-4fee-b9aa-83b33aaf57aa",
   "metadata": {},
   "outputs": [
    {
     "data": {
      "text/plain": [
       "set"
      ]
     },
     "execution_count": 9,
     "metadata": {},
     "output_type": "execute_result"
    }
   ],
   "source": [
    "type(st3)"
   ]
  },
  {
   "cell_type": "code",
   "execution_count": null,
   "id": "ed895799-9d99-441d-8854-8669b25ccb32",
   "metadata": {},
   "outputs": [],
   "source": []
  }
 ],
 "metadata": {
  "kernelspec": {
   "display_name": "Python 3 (ipykernel)",
   "language": "python",
   "name": "python3"
  },
  "language_info": {
   "codemirror_mode": {
    "name": "ipython",
    "version": 3
   },
   "file_extension": ".py",
   "mimetype": "text/x-python",
   "name": "python",
   "nbconvert_exporter": "python",
   "pygments_lexer": "ipython3",
   "version": "3.12.7"
  }
 },
 "nbformat": 4,
 "nbformat_minor": 5
}
